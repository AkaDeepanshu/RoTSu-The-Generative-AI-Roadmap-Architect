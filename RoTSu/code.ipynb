{
 "cells": [
  {
   "cell_type": "code",
   "execution_count": 1,
   "metadata": {},
   "outputs": [],
   "source": [
    "import streamlit as st\n",
    "from transformers import GPT2LMHeadModel, GPT2Tokenizer\n",
    "from langchain.text_splitter import CharacterTextSplitter"
   ]
  },
  {
   "cell_type": "code",
   "execution_count": 4,
   "metadata": {},
   "outputs": [],
   "source": [
    "def load_and_split_text(uploaded_file):\n",
    "    # Read the content of the uploaded file\n",
    "    # text = uploaded_file.getvalue().decode(\"utf-8\")\n",
    "    text_splitter = CharacterTextSplitter(\n",
    "        separator=\"\\n\",\n",
    "        chunk_size=200,\n",
    "        chunk_overlap=0\n",
    "    )\n",
    "    return text_splitter.split_text(text)"
   ]
  },
  {
   "cell_type": "code",
   "execution_count": 5,
   "metadata": {},
   "outputs": [
    {
     "name": "stdout",
     "output_type": "stream",
     "text": [
      "['array is']\n"
     ]
    }
   ],
   "source": [
    "text=\"array is\"\n",
    "print(load_and_split_text(text))"
   ]
  },
  {
   "cell_type": "code",
   "execution_count": 13,
   "metadata": {},
   "outputs": [],
   "source": [
    "def generate_text(sentence):\n",
    "    tokenizer = GPT2Tokenizer.from_pretrained(\"gpt2-large\")\n",
    "    model = GPT2LMHeadModel.from_pretrained(\"gpt2-large\", pad_token_id=tokenizer.eos_token_id)\n",
    "    \n",
    "    input_ids = tokenizer.encode(sentence, return_tensors='pt')\n",
    "    output = model.generate(input_ids, max_length=150, num_beams=10, no_repeat_ngram_size=2, early_stopping=True)\n",
    "    generated_text = tokenizer.decode(output[0], skip_special_tokens=True)\n",
    "    return generated_text"
   ]
  },
  {
   "cell_type": "code",
   "execution_count": 14,
   "metadata": {},
   "outputs": [
    {
     "name": "stdout",
     "output_type": "stream",
     "text": [
      "array is the number of elements in the array.\n",
      "\n",
      "If you want to iterate over an array, you can use the for-of loop. For example, the following code iterates over the first 10 elements of an ArrayList and prints the value of each element:\n",
      "\n",
      "\n",
      "for (int i = 0; i < 10; ++i) { System.out.println(i); } // Output: 1 2 3 4 5 6 7 8 9 10 11 12 13 14 15 16 17 18 19 20 21 22 23 24 25 26 27 28 29 30 31 32 33 34 35 36 37 38 39 40 41 42 43 44 45 46 47 48 49 50 51 52 53 54 55 56 57 58 59 60 61 62 63 64 65\n"
     ]
    }
   ],
   "source": [
    "output=generate_text(text)\n",
    "print(output)"
   ]
  }
 ],
 "metadata": {
  "kernelspec": {
   "display_name": "Python 3",
   "language": "python",
   "name": "python3"
  },
  "language_info": {
   "codemirror_mode": {
    "name": "ipython",
    "version": 3
   },
   "file_extension": ".py",
   "mimetype": "text/x-python",
   "name": "python",
   "nbconvert_exporter": "python",
   "pygments_lexer": "ipython3",
   "version": "3.11.5"
  }
 },
 "nbformat": 4,
 "nbformat_minor": 2
}
